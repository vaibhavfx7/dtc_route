{
 "cells": [
  {
   "cell_type": "code",
   "execution_count": 1,
   "metadata": {},
   "outputs": [],
   "source": [
    "import sqlite3 as sq"
   ]
  },
  {
   "cell_type": "code",
   "execution_count": 21,
   "metadata": {},
   "outputs": [
    {
     "name": "stdout",
     "output_type": "stream",
     "text": [
      "187 187 399\n",
      "True\n",
      "False\n",
      "0  ,  11  ,  12  ,  13  ,  14  ,  15  ,  16  ,  17  ,  18  ,  19  ,  \n",
      "11  ,  0  ,  0  ,  0  ,  0  ,  0  ,  0  ,  0  ,  0  ,  0  ,  \n",
      "12  ,  0  ,  0  ,  0  ,  0  ,  0  ,  0  ,  0  ,  0  ,  0  ,  \n",
      "13  ,  0  ,  0  ,  0  ,  0  ,  0  ,  0  ,  0  ,  0  ,  0  ,  \n",
      "14  ,  0  ,  0  ,  0  ,  0  ,  0  ,  0  ,  0  ,  0  ,  0  ,  \n",
      "15  ,  0  ,  0  ,  0  ,  0  ,  0  ,  0  ,  0  ,  0  ,  0  ,  \n",
      "16  ,  0  ,  0  ,  0  ,  0  ,  0  ,  0  ,  0  ,  0  ,  0  ,  \n",
      "17  ,  0  ,  0  ,  0  ,  0  ,  0  ,  0  ,  0  ,  0  ,  0  ,  \n",
      "18  ,  0  ,  0  ,  0  ,  0  ,  0  ,  0  ,  0  ,  0  ,  0  ,  \n",
      "19  ,  0  ,  0  ,  0  ,  0  ,  0  ,  0  ,  0  ,  0  ,  0  ,  \n",
      "\n",
      "--------------------------------------------------------------------\n",
      "Node Graph\n",
      "0  ,  11  ,  12  ,  13  ,  14  ,  15  ,  16  ,  17  ,  18  ,  19  ,  21  ,  22  ,  23  ,  24  ,  25  ,  \n",
      "11  ,  0  ,  0.882  ,  0  ,  0  ,  0  ,  0  ,  0  ,  0  ,  0  ,  0  ,  0  ,  0  ,  0  ,  0  ,  \n",
      "12  ,  0.882  ,  0  ,  1.127  ,  0  ,  0  ,  0  ,  0  ,  0  ,  0  ,  0  ,  0  ,  0  ,  0  ,  0  ,  \n",
      "13  ,  0  ,  1.127  ,  0  ,  1.126  ,  0  ,  0  ,  0  ,  0  ,  0  ,  0  ,  0  ,  0  ,  0  ,  0  ,  \n",
      "14  ,  0  ,  0  ,  1.126  ,  0  ,  1.19  ,  0  ,  0  ,  0  ,  0  ,  0  ,  0  ,  0  ,  0  ,  0  ,  \n",
      "15  ,  0  ,  0  ,  0  ,  1.19  ,  0  ,  1.09  ,  0  ,  0  ,  0  ,  0  ,  0  ,  0  ,  0  ,  0  ,  \n",
      "16  ,  0  ,  0  ,  0  ,  0  ,  1.09  ,  0  ,  1.67  ,  0  ,  0  ,  0  ,  0  ,  0  ,  0  ,  0  ,  \n",
      "17  ,  0  ,  0  ,  0  ,  0  ,  0  ,  1.67  ,  0  ,  2.34  ,  0  ,  0  ,  0  ,  0  ,  0  ,  0  ,  \n",
      "18  ,  0  ,  0  ,  0  ,  0  ,  0  ,  0  ,  2.34  ,  0  ,  1.16  ,  0  ,  0  ,  0  ,  0  ,  0  ,  \n",
      "19  ,  0  ,  0  ,  0  ,  0  ,  0  ,  0  ,  0  ,  1.16  ,  0  ,  0  ,  0  ,  0  ,  0  ,  0  ,  \n",
      "21  ,  0  ,  0  ,  0  ,  0  ,  0  ,  0  ,  0  ,  0  ,  0  ,  0  ,  0.857  ,  0  ,  0  ,  0  ,  \n",
      "22  ,  0  ,  0  ,  0  ,  0  ,  0  ,  0  ,  0  ,  0  ,  0  ,  0.857  ,  0  ,  1.81  ,  0  ,  0  ,  \n",
      "23  ,  0  ,  0  ,  0  ,  0  ,  0  ,  0  ,  0  ,  0  ,  0  ,  0  ,  1.81  ,  0  ,  1.226  ,  0  ,  \n",
      "24  ,  0  ,  0  ,  0  ,  0  ,  0  ,  0  ,  0  ,  0  ,  0  ,  0  ,  0  ,  1.226  ,  0  ,  1.295  ,  \n",
      "25  ,  0  ,  0  ,  0  ,  0  ,  0  ,  0  ,  0  ,  0  ,  0  ,  0  ,  0  ,  0  ,  1.295  ,  0  ,  \n",
      "\n",
      "--------------------------------------------------------------------\n",
      "Dijikstra Graph\n",
      "0  ,  0.882  ,  0  ,  0  ,  0  ,  0  ,  0  ,  0  ,  0  ,  0  ,  0  ,  0  ,  0  ,  0  ,  0  ,  \n",
      "0.882  ,  0  ,  1.127  ,  0  ,  0  ,  0  ,  0  ,  0  ,  0  ,  0  ,  0  ,  0  ,  0  ,  0  ,  0  ,  \n",
      "0  ,  1.127  ,  0  ,  1.126  ,  0  ,  0  ,  0  ,  0  ,  0  ,  0  ,  0  ,  0  ,  0  ,  0  ,  0  ,  \n",
      "0  ,  0  ,  1.126  ,  0  ,  1.19  ,  0  ,  0  ,  0  ,  0  ,  0  ,  0  ,  0  ,  0  ,  0  ,  0  ,  \n",
      "0  ,  0  ,  0  ,  1.19  ,  0  ,  1.09  ,  0  ,  0  ,  0  ,  0  ,  0  ,  0  ,  0  ,  0  ,  0  ,  \n",
      "0  ,  0  ,  0  ,  0  ,  1.09  ,  0  ,  1.67  ,  0  ,  0  ,  0  ,  0  ,  0  ,  0  ,  0  ,  0  ,  \n",
      "0  ,  0  ,  0  ,  0  ,  0  ,  1.67  ,  0  ,  2.34  ,  0  ,  0  ,  0  ,  0  ,  0  ,  0  ,  0  ,  \n",
      "0  ,  0  ,  0  ,  0  ,  0  ,  0  ,  2.34  ,  0  ,  1.16  ,  0  ,  0  ,  0  ,  0  ,  0  ,  0  ,  \n",
      "0  ,  0  ,  0  ,  0  ,  0  ,  0  ,  0  ,  1.16  ,  0  ,  0  ,  0  ,  0  ,  0  ,  0  ,  0  ,  \n",
      "0  ,  0  ,  0  ,  0  ,  0  ,  0  ,  0  ,  0  ,  0  ,  0  ,  0.857  ,  0  ,  0  ,  0  ,  0  ,  \n",
      "0  ,  0  ,  0  ,  0  ,  0  ,  0  ,  0  ,  0  ,  0  ,  0.857  ,  0  ,  1.81  ,  0  ,  0  ,  0  ,  \n",
      "0  ,  0  ,  0  ,  0  ,  0  ,  0  ,  0  ,  0  ,  0  ,  0  ,  1.81  ,  0  ,  1.226  ,  0  ,  0  ,  \n",
      "0  ,  0  ,  0  ,  0  ,  0  ,  0  ,  0  ,  0  ,  0  ,  0  ,  0  ,  1.226  ,  0  ,  1.295  ,  0  ,  \n",
      "0  ,  0  ,  0  ,  0  ,  0  ,  0  ,  0  ,  0  ,  0  ,  0  ,  0  ,  0  ,  1.295  ,  0  ,  1.463  ,  \n",
      "0  ,  0  ,  0  ,  0  ,  0  ,  0  ,  0  ,  0  ,  0  ,  0  ,  0  ,  0  ,  0  ,  1.463  ,  0  ,  \n"
     ]
    }
   ],
   "source": [
    "%run Data.ipynb"
   ]
  },
  {
   "cell_type": "code",
   "execution_count": 33,
   "metadata": {},
   "outputs": [],
   "source": [
    "from collections import defaultdict\n",
    "import sys\n",
    "class Shortest_Path: \n",
    "    def minDistance(self,dist,queue):\n",
    "        min_index=-1\n",
    "        minnum=sys.maxsize\n",
    "        for i in range(len(dist)):\n",
    "            if dist[i]<minnum and i in queue:\n",
    "                minnum=dist[i]\n",
    "                min_index=i\n",
    "        return min_index \n",
    "     \n",
    "    def printPath(self, parent, j):\n",
    "        if parent[j]==-1:\n",
    "            print(stnCode_dict[sn_c[j]],end=\" => \") \n",
    "            return\n",
    "        self.printPath(parent,parent[j])\n",
    "        print(stnCode_dict[sn_c[j]],end=\" => \")\n",
    "    def printSolution(self, dist, parent,src):\n",
    "        destination=input()\n",
    "        dest=0\n",
    "        for i in range(len(stn_name)):\n",
    "            if stn_name[i][2]==destination:\n",
    "                dest=stn_name[i][3]\n",
    "                break\n",
    "        for i in range(len(sn_c)):\n",
    "            if stn_code[i]==dest:\n",
    "                dest=i\n",
    "                break\n",
    "        print(\"Vertex \\t\\tDistance from Source\\tPath\")  \n",
    "        print(\"\\n%d --> %d \\t\\t%d \\t\\t\" % (src, dest, dist[i]),end=\"\"), \n",
    "        self.printPath(parent,i)\n",
    "    def shortest(self, graph, src):\n",
    "        for i in range(len(stn_code)):\n",
    "            if stn_code[i]==src:\n",
    "                src=i\n",
    "                break\n",
    "        row,col=len(graph),len(graph[0])\n",
    "        parent=[-1]*row\n",
    "        dist=[sys.maxsize]*row\n",
    "        dist[src]=0\n",
    "        que=[]\n",
    "        for i in range(row):\n",
    "            que.append(i)\n",
    "        while(len(que)!=0):\n",
    "            u=self.minDistance(dist,que)# Pick the minimum dist vertex from the set of vertices still in queue\n",
    "            que.remove(u)\n",
    "            for i in range(col):\n",
    "                if i in que and graph[u][i] and dist[u]+graph[u][i]<dist[i]:\n",
    "                    dist[i]=dist[u]+graph[u][i]\n",
    "                    parent[i]=u\n",
    "        self.printSolution(dist,parent,src)"
   ]
  },
  {
   "cell_type": "code",
   "execution_count": 35,
   "metadata": {},
   "outputs": [
    {
     "name": "stdout",
     "output_type": "stream",
     "text": [
      "Kalindi Kunj\n",
      "Dwarka Mor\n",
      "Vertex \t\tDistance from Source\tPath\n",
      "\n",
      "51 --> 121 \t\t37 \t\tKalindi Kunj => Jasola Vihar => Okhla Vihar => Jamia Milia Islamiya => Sukhdev Vihar => NSIC Okhla => Kalkaji Mandir => Nehru Enclave => Greater Kailash => Chirag Delhi => Panchsheel Park => Hauz Khas => IIT => RK Puram => Munirka => Vasant Vihar => Shankar Vihar => IGI Airport => Sadar Bazar => Palam => Dashrathpuri => Dabri Mor => Janakpuri West => Uttam Nagar East => Uttam Nagar West => Nawada => Dwarka Mor => "
     ]
    }
   ],
   "source": [
    "sp=Shortest_Path()\n",
    "source=input()\n",
    "src=0\n",
    "for i in range(len(stn_name)):\n",
    "    if stn_name[i][2]==source:\n",
    "        src=stn_name[i][3]\n",
    "        break\n",
    "sp.shortest(dijikstra,src)"
   ]
  },
  {
   "cell_type": "code",
   "execution_count": null,
   "metadata": {},
   "outputs": [],
   "source": []
  }
 ],
 "metadata": {
  "kernelspec": {
   "display_name": "Python 3",
   "language": "python",
   "name": "python3"
  },
  "language_info": {
   "codemirror_mode": {
    "name": "ipython",
    "version": 3
   },
   "file_extension": ".py",
   "mimetype": "text/x-python",
   "name": "python",
   "nbconvert_exporter": "python",
   "pygments_lexer": "ipython3",
   "version": "3.6.5"
  }
 },
 "nbformat": 4,
 "nbformat_minor": 2
}
