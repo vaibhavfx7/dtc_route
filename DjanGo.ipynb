{
 "cells": [
  {
   "cell_type": "code",
   "execution_count": 3,
   "metadata": {
    "collapsed": true
   },
   "outputs": [
    {
     "name": "stdout",
     "output_type": "stream",
     "text": [
      "Collecting django\n",
      "  Downloading https://files.pythonhosted.org/packages/94/9f/a56f7893b1280e5019482260e246ab944d54a9a633a01ed04683d9ce5078/Django-2.2.5-py3-none-any.whl (7.5MB)\n",
      "Collecting sqlparse (from django)\n",
      "  Downloading https://files.pythonhosted.org/packages/ef/53/900f7d2a54557c6a37886585a91336520e5539e3ae2423ff1102daf4f3a7/sqlparse-0.3.0-py2.py3-none-any.whl\n",
      "Requirement already satisfied: pytz in c:\\users\\virendra\\anaconda3\\lib\\site-packages (from django) (2018.4)\n",
      "Installing collected packages: sqlparse, django\n",
      "Successfully installed django-2.2.5 sqlparse-0.3.0\n"
     ]
    }
   ],
   "source": [
    "import sys\n",
    "!{sys.executable} -m pip install django"
   ]
  },
  {
   "cell_type": "code",
   "execution_count": 13,
   "metadata": {},
   "outputs": [
    {
     "name": "stdout",
     "output_type": "stream",
     "text": [
      "Collecting virtualenv\n",
      "  Downloading https://files.pythonhosted.org/packages/8b/12/8d4f45b8962b03ac9efefe5ed5053f6b29334d83e438b4fe379d21c0cb8e/virtualenv-16.7.5-py2.py3-none-any.whl (3.3MB)\n",
      "Installing collected packages: virtualenv\n",
      "Successfully installed virtualenv-16.7.5\n"
     ]
    }
   ],
   "source": [
    "import sys\n",
    "!{sys.executable} -m pip install virtualenv"
   ]
  },
  {
   "cell_type": "code",
   "execution_count": 15,
   "metadata": {},
   "outputs": [
    {
     "ename": "AttributeError",
     "evalue": "module 'virtualenv' has no attribute 'venv'",
     "output_type": "error",
     "traceback": [
      "\u001b[1;31m---------------------------------------------------------------------------\u001b[0m",
      "\u001b[1;31mAttributeError\u001b[0m                            Traceback (most recent call last)",
      "\u001b[1;32m<ipython-input-15-0064c9657314>\u001b[0m in \u001b[0;36m<module>\u001b[1;34m\u001b[0m\n\u001b[0;32m      1\u001b[0m \u001b[1;32mimport\u001b[0m \u001b[0mvirtualenv\u001b[0m\u001b[1;33m\u001b[0m\u001b[0m\n\u001b[1;32m----> 2\u001b[1;33m \u001b[0mvirtualenv\u001b[0m \u001b[1;33m.\u001b[0m\u001b[0mvenv\u001b[0m\u001b[1;33m\u001b[0m\u001b[0m\n\u001b[0m",
      "\u001b[1;31mAttributeError\u001b[0m: module 'virtualenv' has no attribute 'venv'"
     ]
    }
   ],
   "source": [
    "import virtualenv\n",
    "virtualenv .venv"
   ]
  },
  {
   "cell_type": "code",
   "execution_count": 6,
   "metadata": {},
   "outputs": [],
   "source": [
    "import django as dj"
   ]
  },
  {
   "cell_type": "code",
   "execution_count": 12,
   "metadata": {},
   "outputs": [
    {
     "name": "stdout",
     "output_type": "stream",
     "text": [
      "Help on package django:\n",
      "\n",
      "NAME\n",
      "    django\n",
      "\n",
      "PACKAGE CONTENTS\n",
      "    __main__\n",
      "    apps (package)\n",
      "    conf (package)\n",
      "    contrib (package)\n",
      "    core (package)\n",
      "    db (package)\n",
      "    dispatch (package)\n",
      "    forms (package)\n",
      "    http (package)\n",
      "    middleware (package)\n",
      "    shortcuts\n",
      "    template (package)\n",
      "    templatetags (package)\n",
      "    test (package)\n",
      "    urls (package)\n",
      "    utils (package)\n",
      "    views (package)\n",
      "\n",
      "FUNCTIONS\n",
      "    setup(set_prefix=True)\n",
      "        Configure the settings (this happens as a side effect of accessing the\n",
      "        first setting), configure logging and populate the app registry.\n",
      "        Set the thread-local urlresolvers script prefix if `set_prefix` is True.\n",
      "\n",
      "DATA\n",
      "    VERSION = (2, 2, 5, 'final', 0)\n",
      "\n",
      "VERSION\n",
      "    2.2.5\n",
      "\n",
      "FILE\n",
      "    c:\\users\\virendra\\anaconda3\\lib\\site-packages\\django\\__init__.py\n",
      "\n",
      "\n"
     ]
    }
   ],
   "source": [
    "help(django)"
   ]
  },
  {
   "cell_type": "code",
   "execution_count": null,
   "metadata": {},
   "outputs": [],
   "source": []
  }
 ],
 "metadata": {
  "kernelspec": {
   "display_name": "Python 3",
   "language": "python",
   "name": "python3"
  },
  "language_info": {
   "codemirror_mode": {
    "name": "ipython",
    "version": 3
   },
   "file_extension": ".py",
   "mimetype": "text/x-python",
   "name": "python",
   "nbconvert_exporter": "python",
   "pygments_lexer": "ipython3",
   "version": "3.6.5"
  }
 },
 "nbformat": 4,
 "nbformat_minor": 2
}
